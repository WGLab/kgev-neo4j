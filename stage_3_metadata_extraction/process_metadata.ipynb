{
 "cells": [
  {
   "cell_type": "markdown",
   "metadata": {},
   "source": [
    "The variables below should be updated accordingly.\n",
    "`NEO4J_OUTPUT_DIR` is where the data to be imported into Neo4j is ouputted."
   ]
  },
  {
   "cell_type": "code",
   "execution_count": 1,
   "metadata": {},
   "outputs": [],
   "source": [
    "NEO4J_OUTPUT_DIR = '../neo4j-import' # folder to store files for neo4j import"
   ]
  },
  {
   "cell_type": "code",
   "execution_count": 2,
   "metadata": {},
   "outputs": [],
   "source": [
    "import pandas as pd\n",
    "import os"
   ]
  },
  {
   "cell_type": "code",
   "execution_count": 3,
   "metadata": {},
   "outputs": [
    {
     "name": "stderr",
     "output_type": "stream",
     "text": [
      "/opt/anaconda3/lib/python3.7/site-packages/IPython/core/interactiveshell.py:3058: DtypeWarning: Columns (1,4,5,6,13,14,15,16) have mixed types.Specify dtype option on import or set low_memory=False.\n",
      "  interactivity=interactivity, compiler=compiler, result=result)\n"
     ]
    },
    {
     "name": "stdout",
     "output_type": "stream",
     "text": [
      "total number of doccument/paper IDs after Stage 2: 178900\n"
     ]
    }
   ],
   "source": [
    "metadata_path = '../data/metadata.csv' # CORD-19 metadata from kaggle\n",
    "metadata_df = pd.read_csv(metadata_path)\n",
    "\n",
    "# text-document relationships produced from Stage 2, used to get the list of documents for which to extract metadata\n",
    "sentences_path = os.path.join(NEO4J_OUTPUT_DIR, 'text_edges.csv')\n",
    "sentences_df = pd.read_csv(sentences_path)\n",
    "all_paper_ids = set(sentences_df['doc_id:END_ID(Document)'])\n",
    "print('total number of doccument/paper IDs after Stage 2:', len(all_paper_ids))\n",
    "\n",
    "# formated metadata for Neo4j import\n",
    "output_path = os.path.join(NEO4J_OUTPUT_DIR, 'metadata.csv')"
   ]
  },
  {
   "cell_type": "code",
   "execution_count": 4,
   "metadata": {},
   "outputs": [
    {
     "name": "stdout",
     "output_type": "stream",
     "text": [
      "Total number of abstracts in metadata = 309175\n",
      "Total number of PMC IDs in metadata = 170722\n",
      "Total number of PubMed IDs in metadata = 233312\n"
     ]
    }
   ],
   "source": [
    "# metadata statistics\n",
    "all_abstracts = set(metadata_df['abstract'].dropna().str.lower().str.strip())\n",
    "print('Total number of abstracts in metadata =', len(all_abstracts))\n",
    "print('Total number of PMC IDs in metadata =', len(set(metadata_df['pmcid'].dropna())))\n",
    "print('Total number of PubMed IDs in metadata =', len(set(metadata_df['pubmed_id'].dropna())))"
   ]
  },
  {
   "cell_type": "code",
   "execution_count": 5,
   "metadata": {},
   "outputs": [],
   "source": [
    "header = ['cord_uid', 'title', 'authors', 'journal', 'publish_time'] # original header\n",
    "header_neo4j = ['doc_id:ID(Document)', 'title:STRING', 'authors:STRING', 'journal:STRING', 'publish_time:DATE'] # headers for neo4j import"
   ]
  },
  {
   "cell_type": "code",
   "execution_count": 6,
   "metadata": {},
   "outputs": [
    {
     "name": "stdout",
     "output_type": "stream",
     "text": [
      "total number of doccument/paper IDs after Stage 2 with metadata information: 178900\n"
     ]
    }
   ],
   "source": [
    "# format metadata for Neo4j import\n",
    "metadata_df['publish_time'] = pd.to_datetime(metadata_df['publish_time'])\n",
    "metadata_df = metadata_df.sort_values(by='publish_time', ascending=False)\n",
    "metadata_df = metadata_df[header]\n",
    "metadata_df = metadata_df[metadata_df['cord_uid'].isin(all_paper_ids)]\n",
    "metadata_df = metadata_df.dropna(subset=['cord_uid']).drop_duplicates(subset=['cord_uid'])\n",
    "metadata_df.columns = header_neo4j\n",
    "paper_ids = set(metadata_df['doc_id:ID(Document)'])\n",
    "\n",
    "print('total number of doccument/paper IDs after Stage 2 with metadata information:', len(paper_ids))"
   ]
  },
  {
   "cell_type": "code",
   "execution_count": 7,
   "metadata": {},
   "outputs": [],
   "source": [
    "# add papers w/o metadata\n",
    "temp_df = pd.DataFrame(all_paper_ids.difference(paper_ids)) \n",
    "if len(temp_df) > 0:\n",
    "    temp_df.columns = [list(header_neo4j)[0]]\n",
    "    metadata_df = metadata_df.append(temp_df)\n",
    "metadata_df[':LABEL'] = 'Document'"
   ]
  },
  {
   "cell_type": "code",
   "execution_count": 8,
   "metadata": {},
   "outputs": [],
   "source": [
    "# save to .csv\n",
    "metadata_df.to_csv(output_path, index=False)"
   ]
  },
  {
   "cell_type": "code",
   "execution_count": null,
   "metadata": {},
   "outputs": [],
   "source": []
  }
 ],
 "metadata": {
  "kernelspec": {
   "display_name": "Python 3",
   "language": "python",
   "name": "python3"
  },
  "language_info": {
   "codemirror_mode": {
    "name": "ipython",
    "version": 3
   },
   "file_extension": ".py",
   "mimetype": "text/x-python",
   "name": "python",
   "nbconvert_exporter": "python",
   "pygments_lexer": "ipython3",
   "version": "3.7.4"
  }
 },
 "nbformat": 4,
 "nbformat_minor": 2
}
