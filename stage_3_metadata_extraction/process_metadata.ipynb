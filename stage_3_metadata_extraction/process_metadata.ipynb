{
 "cells": [
  {
   "cell_type": "markdown",
   "metadata": {},
   "source": [
    "The variables below should be updated accordingly.  \n",
    "`NEO4J_OUTPUT_DIR` is where the data to be imported into Neo4j is ouputted.  \n",
    "`METADATA_PATH` is that path to the file containing metadata for each article.  \n",
    "`JOURNAL_INFO_PATH` is the path to the file containing journal information, including impact factor (to be integrated with the rest of the metadata.    "
   ]
  },
  {
   "cell_type": "code",
   "execution_count": 1,
   "metadata": {},
   "outputs": [],
   "source": [
    "NEO4J_OUTPUT_DIR = '../neo4j-import' # folder to store files for neo4j import\n",
    "METADATA_PATH = '../data/metadata.csv' # CORD-19 metadata from kaggle\n",
    "JOURNAL_INFO_PATH = './journal_data.csv' # journal info from SCI Journal Citation Reports with impact factor"
   ]
  },
  {
   "cell_type": "code",
   "execution_count": 2,
   "metadata": {},
   "outputs": [],
   "source": [
    "import pandas as pd\n",
    "import os"
   ]
  },
  {
   "cell_type": "code",
   "execution_count": 3,
   "metadata": {},
   "outputs": [
    {
     "name": "stderr",
     "output_type": "stream",
     "text": [
      "/opt/anaconda3/lib/python3.7/site-packages/IPython/core/interactiveshell.py:3058: DtypeWarning: Columns (1,4,5,6,13,14,15,16) have mixed types.Specify dtype option on import or set low_memory=False.\n",
      "  interactivity=interactivity, compiler=compiler, result=result)\n"
     ]
    }
   ],
   "source": [
    "metadata_df = pd.read_csv(METADATA_PATH)\n",
    "journal_df = pd.read_csv(JOURNAL_INFO_PATH, skiprows=1)"
   ]
  },
  {
   "cell_type": "code",
   "execution_count": 4,
   "metadata": {},
   "outputs": [],
   "source": [
    "# create journal to impact factor mapping\n",
    "journal_abbr_title_df = journal_df[['JCR Abbreviated Title', 'Journal Impact Factor']].dropna().drop_duplicates()\n",
    "journal_abbr_title_df.columns = ['journal_title', 'journal_info']\n",
    "\n",
    "journal_full_title_df = journal_df[['Full Journal Title', 'Journal Impact Factor']].dropna().drop_duplicates()\n",
    "journal_full_title_df.columns = ['journal_title', 'journal_info']\n",
    "journal_to_impact_factor_df = journal_abbr_title_df.append(journal_full_title_df, ignore_index=True)\n",
    "journal_to_impact_factor_df['journal_title_lower'] = journal_to_impact_factor_df['journal_title'].str.lower()\n",
    "journal_to_impact_factor_df = journal_to_impact_factor_df.drop_duplicates(subset=['journal_title_lower'])"
   ]
  },
  {
   "cell_type": "code",
   "execution_count": 5,
   "metadata": {},
   "outputs": [
    {
     "data": {
      "text/html": [
       "<div>\n",
       "<style scoped>\n",
       "    .dataframe tbody tr th:only-of-type {\n",
       "        vertical-align: middle;\n",
       "    }\n",
       "\n",
       "    .dataframe tbody tr th {\n",
       "        vertical-align: top;\n",
       "    }\n",
       "\n",
       "    .dataframe thead th {\n",
       "        text-align: right;\n",
       "    }\n",
       "</style>\n",
       "<table border=\"1\" class=\"dataframe\">\n",
       "  <thead>\n",
       "    <tr style=\"text-align: right;\">\n",
       "      <th></th>\n",
       "      <th>journal_title</th>\n",
       "      <th>journal_info</th>\n",
       "      <th>journal_title_lower</th>\n",
       "    </tr>\n",
       "  </thead>\n",
       "  <tbody>\n",
       "    <tr>\n",
       "      <th>0</th>\n",
       "      <td>CA-CANCER J CLIN</td>\n",
       "      <td>223.679</td>\n",
       "      <td>ca-cancer j clin</td>\n",
       "    </tr>\n",
       "    <tr>\n",
       "      <th>1</th>\n",
       "      <td>NAT REV MATER</td>\n",
       "      <td>74.449</td>\n",
       "      <td>nat rev mater</td>\n",
       "    </tr>\n",
       "    <tr>\n",
       "      <th>2</th>\n",
       "      <td>NEW ENGL J MED</td>\n",
       "      <td>70.670</td>\n",
       "      <td>new engl j med</td>\n",
       "    </tr>\n",
       "    <tr>\n",
       "      <th>3</th>\n",
       "      <td>LANCET</td>\n",
       "      <td>59.102</td>\n",
       "      <td>lancet</td>\n",
       "    </tr>\n",
       "    <tr>\n",
       "      <th>4</th>\n",
       "      <td>NAT REV DRUG DISCOV</td>\n",
       "      <td>57.618</td>\n",
       "      <td>nat rev drug discov</td>\n",
       "    </tr>\n",
       "  </tbody>\n",
       "</table>\n",
       "</div>"
      ],
      "text/plain": [
       "         journal_title journal_info  journal_title_lower\n",
       "0     CA-CANCER J CLIN      223.679     ca-cancer j clin\n",
       "1        NAT REV MATER       74.449        nat rev mater\n",
       "2       NEW ENGL J MED       70.670       new engl j med\n",
       "3               LANCET       59.102               lancet\n",
       "4  NAT REV DRUG DISCOV       57.618  nat rev drug discov"
      ]
     },
     "execution_count": 5,
     "metadata": {},
     "output_type": "execute_result"
    }
   ],
   "source": [
    "journal_to_impact_factor_df.head()"
   ]
  },
  {
   "cell_type": "code",
   "execution_count": 6,
   "metadata": {},
   "outputs": [],
   "source": [
    "# add journal impact factors\n",
    "metadata_df['journal_title_lower'] = metadata_df['journal'].str.lower()\n",
    "metadata_df = metadata_df.merge(journal_to_impact_factor_df, how='left', on='journal_title_lower')"
   ]
  },
  {
   "cell_type": "code",
   "execution_count": 7,
   "metadata": {},
   "outputs": [
    {
     "name": "stdout",
     "output_type": "stream",
     "text": [
      "total number of doccument/paper IDs after Stage 2: 178900\n"
     ]
    }
   ],
   "source": [
    "# text-document relationships produced from Stage 2, used to get the list of documents for which to extract metadata\n",
    "sentences_path = os.path.join(NEO4J_OUTPUT_DIR, 'text_edges.csv')\n",
    "sentences_df = pd.read_csv(sentences_path)\n",
    "all_paper_ids = set(sentences_df['doc_id:END_ID(Document)'])\n",
    "print('total number of doccument/paper IDs after Stage 2:', len(all_paper_ids))\n",
    "\n",
    "# formated metadata for Neo4j import\n",
    "output_path = os.path.join(NEO4J_OUTPUT_DIR, 'metadata.csv')"
   ]
  },
  {
   "cell_type": "code",
   "execution_count": 8,
   "metadata": {},
   "outputs": [
    {
     "name": "stdout",
     "output_type": "stream",
     "text": [
      "Total number of abstracts in metadata = 309175\n",
      "Total number of PMC IDs in metadata = 170722\n",
      "Total number of PubMed IDs in metadata = 233312\n"
     ]
    }
   ],
   "source": [
    "# metadata statistics\n",
    "all_abstracts = set(metadata_df['abstract'].dropna().str.lower().str.strip())\n",
    "print('Total number of abstracts in metadata =', len(all_abstracts))\n",
    "print('Total number of PMC IDs in metadata =', len(set(metadata_df['pmcid'].dropna())))\n",
    "print('Total number of PubMed IDs in metadata =', len(set(metadata_df['pubmed_id'].dropna())))"
   ]
  },
  {
   "cell_type": "code",
   "execution_count": 9,
   "metadata": {},
   "outputs": [],
   "source": [
    "header = ['cord_uid', 'title', 'authors', 'journal', 'journal_info', 'publish_time'] # original header\n",
    "header_neo4j = ['doc_id:ID(Document)', 'title:STRING', 'authors:STRING', 'journal:STRING', 'journal_info:STRING', 'publish_time:DATE'] # headers for neo4j import"
   ]
  },
  {
   "cell_type": "code",
   "execution_count": 10,
   "metadata": {},
   "outputs": [
    {
     "name": "stdout",
     "output_type": "stream",
     "text": [
      "total number of doccument/paper IDs after Stage 2 with metadata information: 178900\n"
     ]
    }
   ],
   "source": [
    "# format metadata for Neo4j import\n",
    "metadata_df['publish_time'] = pd.to_datetime(metadata_df['publish_time'])\n",
    "metadata_df = metadata_df.sort_values(by='publish_time', ascending=False)\n",
    "metadata_df = metadata_df[header]\n",
    "metadata_df = metadata_df[metadata_df['cord_uid'].isin(all_paper_ids)]\n",
    "metadata_df = metadata_df.dropna(subset=['cord_uid']).drop_duplicates(subset=['cord_uid'])\n",
    "metadata_df.columns = header_neo4j\n",
    "paper_ids = set(metadata_df['doc_id:ID(Document)'])\n",
    "\n",
    "print('total number of doccument/paper IDs after Stage 2 with metadata information:', len(paper_ids))"
   ]
  },
  {
   "cell_type": "code",
   "execution_count": 11,
   "metadata": {},
   "outputs": [],
   "source": [
    "# add papers w/o metadata\n",
    "temp_df = pd.DataFrame(all_paper_ids.difference(paper_ids)) \n",
    "if len(temp_df) > 0:\n",
    "    temp_df.columns = [list(header_neo4j)[0]]\n",
    "    metadata_df = metadata_df.append(temp_df)\n",
    "metadata_df[':LABEL'] = 'Document'"
   ]
  },
  {
   "cell_type": "code",
   "execution_count": 12,
   "metadata": {},
   "outputs": [],
   "source": [
    "# save to .csv\n",
    "metadata_df.to_csv(output_path, index=False)"
   ]
  },
  {
   "cell_type": "code",
   "execution_count": 13,
   "metadata": {},
   "outputs": [
    {
     "data": {
      "text/html": [
       "<div>\n",
       "<style scoped>\n",
       "    .dataframe tbody tr th:only-of-type {\n",
       "        vertical-align: middle;\n",
       "    }\n",
       "\n",
       "    .dataframe tbody tr th {\n",
       "        vertical-align: top;\n",
       "    }\n",
       "\n",
       "    .dataframe thead th {\n",
       "        text-align: right;\n",
       "    }\n",
       "</style>\n",
       "<table border=\"1\" class=\"dataframe\">\n",
       "  <thead>\n",
       "    <tr style=\"text-align: right;\">\n",
       "      <th></th>\n",
       "      <th>doc_id:ID(Document)</th>\n",
       "      <th>title:STRING</th>\n",
       "      <th>authors:STRING</th>\n",
       "      <th>journal:STRING</th>\n",
       "      <th>journal_info:STRING</th>\n",
       "      <th>publish_time:DATE</th>\n",
       "      <th>:LABEL</th>\n",
       "    </tr>\n",
       "  </thead>\n",
       "  <tbody>\n",
       "    <tr>\n",
       "      <th>257938</th>\n",
       "      <td>4fmocguu</td>\n",
       "      <td>Exposure of pediatric emergency patients to im...</td>\n",
       "      <td>Floriani, Isabela Dombeck; Borgmann, Ariela Vi...</td>\n",
       "      <td>Rev. Paul. Pediatr. (Ed. Port., Online)</td>\n",
       "      <td>NaN</td>\n",
       "      <td>2022-01-01</td>\n",
       "      <td>Document</td>\n",
       "    </tr>\n",
       "    <tr>\n",
       "      <th>299658</th>\n",
       "      <td>5cxheca8</td>\n",
       "      <td>Chapter 40 - COVID-19 Infection: A Novel Fatal...</td>\n",
       "      <td>Maleki, Majid Norouzi Zeinab Maleki Alireza</td>\n",
       "      <td>Practical Cardiology (Second Edition)</td>\n",
       "      <td>NaN</td>\n",
       "      <td>2022-01-01</td>\n",
       "      <td>Document</td>\n",
       "    </tr>\n",
       "    <tr>\n",
       "      <th>257937</th>\n",
       "      <td>8ulzzzjc</td>\n",
       "      <td>Exposure of pediatric emergency patients to im...</td>\n",
       "      <td>Floriani, Isabela Dombeck Borgmann Ariela Vict...</td>\n",
       "      <td>Rev. Paul. Pediatr. (Ed. Port., Online)</td>\n",
       "      <td>NaN</td>\n",
       "      <td>2022-01-01</td>\n",
       "      <td>Document</td>\n",
       "    </tr>\n",
       "    <tr>\n",
       "      <th>399032</th>\n",
       "      <td>ra86cr5c</td>\n",
       "      <td>Chapter 5 Treatment of COVID-19</td>\n",
       "      <td>Qu, Jie-Ming; Cao, Bin; Chen, Rong-Chang</td>\n",
       "      <td>COVID-19</td>\n",
       "      <td>NaN</td>\n",
       "      <td>2021-12-31</td>\n",
       "      <td>Document</td>\n",
       "    </tr>\n",
       "    <tr>\n",
       "      <th>437334</th>\n",
       "      <td>2eyzbjdp</td>\n",
       "      <td>Pathogenic Human Coronaviruses</td>\n",
       "      <td>Schoeman, Dewald; Gordon, Bianca; Fielding, Bu...</td>\n",
       "      <td>Reference Module in Biomedical Sciences</td>\n",
       "      <td>NaN</td>\n",
       "      <td>2021-12-31</td>\n",
       "      <td>Document</td>\n",
       "    </tr>\n",
       "  </tbody>\n",
       "</table>\n",
       "</div>"
      ],
      "text/plain": [
       "       doc_id:ID(Document)                                       title:STRING  \\\n",
       "257938            4fmocguu  Exposure of pediatric emergency patients to im...   \n",
       "299658            5cxheca8  Chapter 40 - COVID-19 Infection: A Novel Fatal...   \n",
       "257937            8ulzzzjc  Exposure of pediatric emergency patients to im...   \n",
       "399032            ra86cr5c                    Chapter 5 Treatment of COVID-19   \n",
       "437334            2eyzbjdp                     Pathogenic Human Coronaviruses   \n",
       "\n",
       "                                           authors:STRING  \\\n",
       "257938  Floriani, Isabela Dombeck; Borgmann, Ariela Vi...   \n",
       "299658        Maleki, Majid Norouzi Zeinab Maleki Alireza   \n",
       "257937  Floriani, Isabela Dombeck Borgmann Ariela Vict...   \n",
       "399032           Qu, Jie-Ming; Cao, Bin; Chen, Rong-Chang   \n",
       "437334  Schoeman, Dewald; Gordon, Bianca; Fielding, Bu...   \n",
       "\n",
       "                                 journal:STRING journal_info:STRING  \\\n",
       "257938  Rev. Paul. Pediatr. (Ed. Port., Online)                 NaN   \n",
       "299658    Practical Cardiology (Second Edition)                 NaN   \n",
       "257937  Rev. Paul. Pediatr. (Ed. Port., Online)                 NaN   \n",
       "399032                                 COVID-19                 NaN   \n",
       "437334  Reference Module in Biomedical Sciences                 NaN   \n",
       "\n",
       "       publish_time:DATE    :LABEL  \n",
       "257938        2022-01-01  Document  \n",
       "299658        2022-01-01  Document  \n",
       "257937        2022-01-01  Document  \n",
       "399032        2021-12-31  Document  \n",
       "437334        2021-12-31  Document  "
      ]
     },
     "execution_count": 13,
     "metadata": {},
     "output_type": "execute_result"
    }
   ],
   "source": [
    "metadata_df.head()"
   ]
  },
  {
   "cell_type": "code",
   "execution_count": null,
   "metadata": {},
   "outputs": [],
   "source": []
  }
 ],
 "metadata": {
  "kernelspec": {
   "display_name": "Python 3",
   "language": "python",
   "name": "python3"
  },
  "language_info": {
   "codemirror_mode": {
    "name": "ipython",
    "version": 3
   },
   "file_extension": ".py",
   "mimetype": "text/x-python",
   "name": "python",
   "nbconvert_exporter": "python",
   "pygments_lexer": "ipython3",
   "version": "3.7.4"
  }
 },
 "nbformat": 4,
 "nbformat_minor": 2
}
