{
 "cells": [
  {
   "cell_type": "markdown",
   "metadata": {},
   "source": [
    "The variables below should be updated accordingly.  \n",
    "`INPUT_FILE_PATH` is where the the processed and integrated SemRep triples is stored (output of Stage 4).   \n",
    "`NODE_MAPPING_FILE_PATH` is where node information for the processed triples is stored (output of Stage 2).  \n",
    "`NEO4J_OUTPUT_DIR` is where the data to be imported into Neo4j is ouputted.  "
   ]
  },
  {
   "cell_type": "code",
   "execution_count": 1,
   "metadata": {},
   "outputs": [],
   "source": [
    "INPUT_FILE_PATH = '../data/semrep_relationships_integrated.csv'\n",
    "NODE_MAPPING_FILE_PATH = '../data/node_id_mapping.csv'\n",
    "NEO4J_OUTPUT_DIR = '../neo4j-import'"
   ]
  },
  {
   "cell_type": "code",
   "execution_count": 2,
   "metadata": {},
   "outputs": [],
   "source": [
    "import pandas as pd\n",
    "import os, json"
   ]
  },
  {
   "cell_type": "code",
   "execution_count": 3,
   "metadata": {},
   "outputs": [],
   "source": [
    "# columns in the edges file\n",
    "id_col = 'id' # the preferred name of the entity\n",
    "id_col_1 = id_col + \"1\"\n",
    "id_col_2 = id_col + \"2\"\n",
    "\n",
    "identifier_col = 'identifier' # the CUI of the entity\n",
    "identifier_col_1 = identifier_col + \"1\"\n",
    "identifier_col_2 = identifier_col + \"2\"\n",
    "\n",
    "type_col = 'type' # the semantic group of the entity\n",
    "type_col_1 = type_col + \"1\"\n",
    "type_col_2 = type_col + \"2\"\n",
    "\n",
    "info_col = 'info' # synonyms/original texts for the entity\n",
    "info_col_1 = info_col + \"1\"\n",
    "info_col_2 = info_col + \"2\"\n",
    "\n",
    "source_col = 'evidence_source' # what source the triple is from\n",
    "rel_col = ':TYPE' # relationship\n",
    "weight_col = 'weight' # name of column with triple edge weight\n",
    "\n",
    "# what to name the columns after aggregation\n",
    "identifier_col_agg = identifier_col + \"s\"\n",
    "type_col_agg = type_col + \"s\"\n",
    "info_col_agg = info_col + \"s\""
   ]
  },
  {
   "cell_type": "code",
   "execution_count": 4,
   "metadata": {},
   "outputs": [],
   "source": [
    "edges_df = pd.read_csv(INPUT_FILE_PATH)\n",
    "edges_df['text_id'] = edges_df['text_id'].fillna(-1).astype(int)\n",
    "\n",
    "# add additional column for edges\n",
    "edges_df['source'] = edges_df[id_col_1]\n",
    "edges_df['target'] = edges_df[id_col_2]\n",
    "edges_df['label'] = edges_df[':TYPE']\n",
    "edges_df['id'] = edges_df[id_col_1] + \"|\" + edges_df[\":TYPE\"] + \"|\" + edges_df[id_col_2]\n",
    "header = edges_df.columns"
   ]
  },
  {
   "cell_type": "code",
   "execution_count": 5,
   "metadata": {},
   "outputs": [],
   "source": [
    "# start and end indices as integer\n",
    "edges_df['start1'] = edges_df['start1'].fillna(-1).astype('int32')\n",
    "edges_df['end1'] = edges_df['end1'].fillna(-1).astype('int32')\n",
    "edges_df['start2'] = edges_df['start2'].fillna(-1).astype('int32')\n",
    "edges_df['end2'] = edges_df['end2'].fillna(-1).astype('int32')\n",
    "edges_df['startr'] = edges_df['startr'].fillna(-1).astype('int32')\n",
    "edges_df['endr'] = edges_df['endr'].fillna(-1).astype('int32')"
   ]
  },
  {
   "cell_type": "code",
   "execution_count": 6,
   "metadata": {},
   "outputs": [],
   "source": [
    "# format the header for neo4j import\n",
    "edges_neo4j_header = []\n",
    "for h in header:\n",
    "    if h == id_col_1:\n",
    "        edges_neo4j_header.append(h + \":START_ID(Item)\")\n",
    "    elif h == id_col_2:\n",
    "        edges_neo4j_header.append(h + \":END_ID(Item)\")\n",
    "    elif h == weight_col:\n",
    "        edges_neo4j_header.append(h + \":FLOAT\")\n",
    "    elif h == \":TYPE\":\n",
    "        edges_neo4j_header.append(h)\n",
    "    elif 'start' in h or 'end' in h:\n",
    "        edges_neo4j_header.append(h + \":INT\")\n",
    "    else:\n",
    "        edges_neo4j_header.append(h + \":STRING\")\n",
    "edges_df.columns = edges_neo4j_header    \n",
    "edges_df.to_csv(os.path.join(NEO4J_OUTPUT_DIR, 'edges.csv'), index=False)"
   ]
  },
  {
   "cell_type": "code",
   "execution_count": 7,
   "metadata": {},
   "outputs": [],
   "source": [
    "nodes_df = pd.read_csv(NODE_MAPPING_FILE_PATH)\n",
    "nodes_df = nodes_df[[id_col, identifier_col_agg, type_col_agg, info_col_agg]].drop_duplicates().dropna()\n",
    "nodes_neo4j_header = [id_col + \":ID(Item)\", identifier_col + \":STRING\", type_col + \":STRING\", info_col + \":STRING\"]\n",
    "nodes_df.columns = nodes_neo4j_header\n",
    "nodes_df[\":LABEL\"] = 'Item'\n",
    "nodes_df.to_csv(os.path.join(NEO4J_OUTPUT_DIR, 'nodes.csv'), index=False)"
   ]
  },
  {
   "cell_type": "code",
   "execution_count": 8,
   "metadata": {},
   "outputs": [
    {
     "name": "stdout",
     "output_type": "stream",
     "text": [
      "Node types\n",
      "====================\n"
     ]
    },
    {
     "data": {
      "text/plain": [
       "'[\"Activities & Behaviors\", \"Anatomy\", \"Anatomy;Chemicals & Drugs\", \"COVID-19 (disease)\", \"Chemicals & Drugs\", \"Concepts & Ideas\", \"Devices\", \"Disorders\", \"Genes & Molecular Sequences\", \"Genes & Molecular Sequences;Chemicals & Drugs\", \"Geographic Areas\", \"Living Beings\", \"Objects\", \"Objects;Chemicals & Drugs\", \"Occupations\", \"Organizations\", \"Organizations;Objects\", \"Phenomena\", \"Physiology\", \"Procedures\", \"SARS-CoV-2 (virus)\"]'"
      ]
     },
     "execution_count": 8,
     "metadata": {},
     "output_type": "execute_result"
    }
   ],
   "source": [
    "print('Node types')\n",
    "print('====================')\n",
    "node_types = sorted(set(nodes_df['type:STRING']))\n",
    "json.dumps(node_types)"
   ]
  },
  {
   "cell_type": "code",
   "execution_count": 9,
   "metadata": {},
   "outputs": [
    {
     "name": "stdout",
     "output_type": "stream",
     "text": [
      "Relationship types\n",
      "====================\n"
     ]
    },
    {
     "data": {
      "text/plain": [
       "'[\"ADMINISTERED_TO\", \"AFFECTS\", \"ASSOCIATED_WITH\", \"AUGMENTS\", \"CAUSES\", \"COEXISTS_WITH\", \"COMPLICATES\", \"CONVERTS_TO\", \"DIAGNOSES\", \"DISRUPTS\", \"INHIBITS\", \"INTERACTS_WITH\", \"ISA\", \"LOCATION_OF\", \"MANIFESTATION_OF\", \"MEASURES\", \"METHOD_OF\", \"OCCURS_IN\", \"PART_OF\", \"PRECEDES\", \"PREDISPOSES\", \"PREVENTS\", \"PROCESS_OF\", \"PRODUCES\", \"STIMULATES\", \"TREATS\", \"USES\", \"compared_with\", \"disease-gene\", \"disease-phenotype\", \"drug-gene\", \"gene-GO\", \"gene-gene\", \"gene-phenotype\", \"higher_than\", \"lower_than\", \"same_as\"]'"
      ]
     },
     "execution_count": 9,
     "metadata": {},
     "output_type": "execute_result"
    }
   ],
   "source": [
    "print('Relationship types')\n",
    "print('====================')\n",
    "relationship_types =  sorted(set(edges_df[':TYPE']))\n",
    "json.dumps(relationship_types)"
   ]
  },
  {
   "cell_type": "code",
   "execution_count": 10,
   "metadata": {},
   "outputs": [
    {
     "name": "stdout",
     "output_type": "stream",
     "text": [
      "Evidence sources\n",
      "====================\n"
     ]
    },
    {
     "data": {
      "text/plain": [
       "'[\"CORD-19\", \"DGIdb\", \"DisGeNET\", \"HPO\", \"STRING\", \"Uniprot\"]'"
      ]
     },
     "execution_count": 10,
     "metadata": {},
     "output_type": "execute_result"
    }
   ],
   "source": [
    "print('Evidence sources')\n",
    "print('====================')\n",
    "evidence_sources = sorted(set(edges_df['evidence_source:STRING']))\n",
    "json.dumps(evidence_sources)"
   ]
  },
  {
   "cell_type": "code",
   "execution_count": null,
   "metadata": {},
   "outputs": [],
   "source": []
  }
 ],
 "metadata": {
  "kernelspec": {
   "display_name": "Python 3",
   "language": "python",
   "name": "python3"
  },
  "language_info": {
   "codemirror_mode": {
    "name": "ipython",
    "version": 3
   },
   "file_extension": ".py",
   "mimetype": "text/x-python",
   "name": "python",
   "nbconvert_exporter": "python",
   "pygments_lexer": "ipython3",
   "version": "3.7.4"
  }
 },
 "nbformat": 4,
 "nbformat_minor": 2
}
