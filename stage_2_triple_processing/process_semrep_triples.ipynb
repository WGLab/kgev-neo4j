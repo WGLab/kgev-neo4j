{
 "cells": [
  {
   "cell_type": "markdown",
   "metadata": {},
   "source": [
    "The variables below should be updated accordingly.  \n",
    "`INPUT_FILE_PATH` is where the .csv file with SemRep relationships is located (i.e. the output from Stage 1).  \n",
    "`OUTPUT_FILE_PATH` is where the processed triples/the output from Stage 2 will be stored (as a .csv file).  \n",
    "`NODE_MAPPING_FILE_PATH` is where node information for the processed triples will be stored (as a .csv file).  "
   ]
  },
  {
   "cell_type": "code",
   "execution_count": 1,
   "metadata": {},
   "outputs": [],
   "source": [
    "INPUT_FILE_PATH = '../data/semrep_relationships.csv'\n",
    "OUTPUT_FILE_PATH = '../data/semrep_relationships_processed.csv'\n",
    "NODE_MAPPING_FILE_PATH = '../data/node_id_mapping.csv'\n",
    "NEO4J_OUTPUT_DIR = '../neo4j-import'"
   ]
  },
  {
   "cell_type": "code",
   "execution_count": 2,
   "metadata": {},
   "outputs": [],
   "source": [
    "import numpy as np\n",
    "import pandas as pd\n",
    "import re, os"
   ]
  },
  {
   "cell_type": "code",
   "execution_count": 3,
   "metadata": {},
   "outputs": [],
   "source": [
    "subj_col = 'subj_preferred_name'\n",
    "rel_col = 'relation'\n",
    "obj_col = 'obj_preferred_name'"
   ]
  },
  {
   "cell_type": "code",
   "execution_count": 4,
   "metadata": {},
   "outputs": [
    {
     "name": "stdout",
     "output_type": "stream",
     "text": [
      "Number of relationships directly outputted by SemRep = 1088236\n"
     ]
    }
   ],
   "source": [
    "kg_df = pd.read_csv(INPUT_FILE_PATH, keep_default_na=False)\n",
    "kg_df = kg_df[[\n",
    "    'paper_id', 'subj_CUI', 'subj_preferred_name', 'subj_semantic_type', 'subj_gene_id', 'subj_gene_name', \\\n",
    "    'subj_original_text', 'subj_negated', 'subj_confidence_score', 'subj_start', 'subj_end' , \\\n",
    "    'relation_type', 'relation', 'relation_negated', 'relation_start', 'relation_end', 'relation_original_text', \\\n",
    "    'obj_CUI', 'obj_preferred_name', 'obj_semantic_type', 'obj_gene_id', 'obj_gene_name', 'obj_original_text', \\\n",
    "    'obj_negated', 'obj_confidence_score', 'obj_start', 'obj_end', \\\n",
    "    'sentence']]\n",
    "print(\"Number of relationships directly outputted by SemRep =\", len(kg_df))"
   ]
  },
  {
   "cell_type": "markdown",
   "metadata": {},
   "source": [
    "# Cleaning data"
   ]
  },
  {
   "cell_type": "code",
   "execution_count": 5,
   "metadata": {},
   "outputs": [
    {
     "name": "stdout",
     "output_type": "stream",
     "text": [
      "Number of relationships (after removing empty strings) = 1079157\n"
     ]
    }
   ],
   "source": [
    "# replace whitespace with NaN\n",
    "kg_df.replace(r'^\\s*$', np.nan, regex=True, inplace=True)\n",
    "\n",
    "# remove NaN for subj, relationship, and obj cols\n",
    "kg_df = kg_df.dropna(axis=0, subset=[subj_col, \"subj_original_text\", rel_col, \"relation_original_text\", obj_col, \"obj_original_text\"])\n",
    "print(\"Number of relationships (after removing empty strings) =\", len(kg_df))\n",
    "\n",
    "# check that all subj, verb, obj cells are non-null\n",
    "missing = kg_df[(kg_df[subj_col].isnull()) | (kg_df[rel_col].isnull()) | (kg_df[obj_col].isnull())]\n",
    "assert len(missing) == 0"
   ]
  },
  {
   "cell_type": "code",
   "execution_count": 6,
   "metadata": {},
   "outputs": [
    {
     "name": "stdout",
     "output_type": "stream",
     "text": [
      "Number of relationships (after dropping duplicates) = 1078916\n"
     ]
    }
   ],
   "source": [
    "# drop duplicates\n",
    "kg_df['sentence_lower'] = kg_df['sentence'].str.lower().str.strip()\n",
    "kg_df = kg_df.drop_duplicates(subset=['paper_id', 'subj_start', 'subj_end', 'obj_start', 'obj_end', 'relation_start', 'relation_end', 'sentence_lower', subj_col, rel_col, obj_col])\n",
    "\n",
    "print(\"Number of relationships (after dropping duplicates) =\", len(kg_df))"
   ]
  },
  {
   "cell_type": "code",
   "execution_count": 7,
   "metadata": {},
   "outputs": [],
   "source": [
    "# lowercase original text\n",
    "kg_df['subj_original_text'] = kg_df['subj_original_text'].str.lower()\n",
    "kg_df['obj_original_text'] = kg_df['obj_original_text'].str.lower()"
   ]
  },
  {
   "cell_type": "code",
   "execution_count": 8,
   "metadata": {
    "tags": []
   },
   "outputs": [
    {
     "name": "stdout",
     "output_type": "stream",
     "text": [
      "After cleaning data:\n",
      "number of nodes = 50182\n",
      "number of unique relationship types = 64\n",
      "number of unique edges (includes all edge properties) = 1078916\n",
      "number of unique triples = 373327\n",
      "number of unique paper IDs = 238816\n"
     ]
    }
   ],
   "source": [
    "print('After cleaning data:')\n",
    "\n",
    "nodes = set(kg_df[subj_col]).union(set(kg_df[obj_col]))\n",
    "print(\"number of nodes =\", len(nodes))\n",
    "rels = set(kg_df[rel_col])\n",
    "print(\"number of unique relationship types =\", len(rels))\n",
    "print(\"number of unique edges (includes all edge properties) =\", len(kg_df))\n",
    "num_relationships = len(kg_df.groupby([subj_col, rel_col, obj_col]).count())\n",
    "print(\"number of unique triples =\", num_relationships)\n",
    "\n",
    "print('number of unique paper IDs =', len(set(kg_df['paper_id'])))"
   ]
  },
  {
   "cell_type": "markdown",
   "metadata": {},
   "source": [
    "# Standardize entities"
   ]
  },
  {
   "cell_type": "code",
   "execution_count": 9,
   "metadata": {},
   "outputs": [],
   "source": [
    "# use gene name as preferred name\n",
    "def set_gene_name_as_preferred_name(row, pref_name_col, gene_name_col):\n",
    "    if str(row[gene_name_col]) != 'nan':\n",
    "        return row[gene_name_col]\n",
    "    else:\n",
    "        return row[pref_name_col]\n",
    "    \n",
    "kg_df[subj_col] = kg_df.apply(lambda row: set_gene_name_as_preferred_name(row, subj_col, 'subj_gene_name'), axis=1)\n",
    "kg_df[obj_col] = kg_df.apply(lambda row: set_gene_name_as_preferred_name(row, obj_col, 'obj_gene_name'), axis=1)\n"
   ]
  },
  {
   "cell_type": "code",
   "execution_count": 10,
   "metadata": {
    "tags": []
   },
   "outputs": [
    {
     "name": "stdout",
     "output_type": "stream",
     "text": [
      "223 SARS-CoV-2 (virus) terms\n"
     ]
    }
   ],
   "source": [
    "# SARS-CoV-2 terms\n",
    "coronavirus = []\n",
    "with open(os.path.join(\"covid_19_dictionaries\", \"Virus_SARS-CoV-2.txt\")) as f:\n",
    "    for line in f:\n",
    "        coronavirus.append(line.strip())\n",
    "print(len(coronavirus), \"SARS-CoV-2 (virus) terms\")"
   ]
  },
  {
   "cell_type": "code",
   "execution_count": 11,
   "metadata": {
    "tags": []
   },
   "outputs": [
    {
     "name": "stdout",
     "output_type": "stream",
     "text": [
      "1192 COVID-19 (disease) terms (partial match)\n",
      "11723 COVID-19 (disease) terms (long/exact match)\n",
      "12915 COVID-19 (disease) terms (all)\n"
     ]
    }
   ],
   "source": [
    "# COVID-19 terms\n",
    "covid = []\n",
    "covid_exact = []\n",
    "covid_all = []\n",
    "with open(os.path.join(\"covid_19_dictionaries\", \"Disease_COVID-19.txt\")) as f:\n",
    "    for line in f:\n",
    "        term = line.strip()\n",
    "        covid_all.append(term)\n",
    "        if term in [\"wurs\", \"ncp\", \"sars2\"] or term.count(\" \") >= 4:\n",
    "            covid_exact.append(term)\n",
    "        else:\n",
    "            covid.append(term)\n",
    "print(len(covid), \"COVID-19 (disease) terms (partial match)\")\n",
    "print(len(covid_exact), \"COVID-19 (disease) terms (long/exact match)\")\n",
    "print(len(covid_all), \"COVID-19 (disease) terms (all)\")"
   ]
  },
  {
   "cell_type": "code",
   "execution_count": 12,
   "metadata": {},
   "outputs": [],
   "source": [
    "# dictionary for standardization of COVID-19-related entities\n",
    "temp = pd.read_csv('table_s1.csv')\n",
    "d_replace = dict(zip(list(temp['original term']), list(temp['normalized'])))\n",
    "virus_terms = []\n",
    "covid_terms = []\n",
    "        \n",
    "for k in d_replace:\n",
    "    if 'SARS-CoV-2' in d_replace[k]:\n",
    "        virus_terms.append(k)\n",
    "    elif 'COVID-19' in d_replace[k]:\n",
    "        covid_terms.append(k)\n",
    "    else:\n",
    "        raise Exception('Normalized term must contain SARS-CoV-2 or COVID-19', d[k])"
   ]
  },
  {
   "cell_type": "code",
   "execution_count": 13,
   "metadata": {},
   "outputs": [],
   "source": [
    "# update semantic type for COVID-19-related terms\n",
    "# either 'SARS-CoV-2 (virus)' or 'COVID-19 (disease)'\n",
    "\n",
    "def update_covid_semtype(row, original_text_col, semtype_col):\n",
    "    if str(row[original_text_col]).lower() in virus_terms:\n",
    "        return \"SARS-CoV-2 (virus)\"\n",
    "    elif str(row[original_text_col]).lower() in covid_terms:\n",
    "        return \"COVID-19 (disease)\"\n",
    "    else:\n",
    "        return row[semtype_col]\n",
    "\n",
    "kg_df['subj_semantic_type'] = kg_df.apply(lambda x: update_covid_semtype(x, 'subj_original_text', 'subj_semantic_type'), axis=1)\n",
    "kg_df['obj_semantic_type'] = kg_df.apply(lambda x: update_covid_semtype(x, 'obj_original_text', 'obj_semantic_type'), axis=1)"
   ]
  },
  {
   "cell_type": "code",
   "execution_count": 14,
   "metadata": {},
   "outputs": [],
   "source": [
    "# add COVID-19-related preferred names based on standardization\n",
    "def update_covid_preferred_name(row, original_text_col, semantic_type_col, preferred_name_col):\n",
    "    if str(row[semantic_type_col]) == \"SARS-CoV-2 (virus)\" or str(row[semantic_type_col]) == \"COVID-19 (disease)\":\n",
    "        return str(row[original_text_col]).lower()\n",
    "    else:\n",
    "        return row[preferred_name_col]\n",
    "    \n",
    "kg_df[subj_col] = kg_df.apply(lambda x: update_covid_preferred_name(x, \"subj_original_text\", \"subj_semantic_type\", subj_col), axis=1)\n",
    "kg_df[obj_col] = kg_df.apply(lambda x: update_covid_preferred_name(x, \"obj_original_text\", \"obj_semantic_type\", obj_col), axis=1)\n",
    "\n",
    "kg_df[subj_col] = kg_df[subj_col].replace(d_replace) \n",
    "kg_df[obj_col] = kg_df[obj_col].replace(d_replace)"
   ]
  },
  {
   "cell_type": "code",
   "execution_count": 15,
   "metadata": {
    "scrolled": true
   },
   "outputs": [
    {
     "name": "stdout",
     "output_type": "stream",
     "text": [
      "There are 23 coronavirus-related terms (preferred name after normalizing COVID-19 and SARS-CoV-2)\n",
      "{'SARS-CoV-2', 'SARS-CoV-2 spread', 'COVID-19 animal', 'SARS-CoV-2 protein', 'SARS-CoV-2 PCR', 'COVID-19 country', 'COVID-19 subject', 'COVID-19', 'COVID-19 treatment', 'COVID-19 re-infection', 'COVID-19 testing', 'COVID-19 symptom', 'COVID-19 suspected', 'SARS-CoV-2 related virus', 'COVID-19 patient', 'Asymptomatic COVID-19', 'SARS-CoV-2 antibody', 'Severe COVID-19', 'SARS-CoV-2 gene', 'COVID-19 related infection', 'COVID-19 acquired infection', 'COVID-19 vaccine', 'COVID-19 co-infection'}\n"
     ]
    }
   ],
   "source": [
    "covid_semtypes = [\"SARS-CoV-2 (virus)\", \"COVID-19 (disease)\"] # custom semantic types representing coronavirus/covid\n",
    "coronavirus_subj_terms = set(kg_df[kg_df[\"subj_semantic_type\"].isin(covid_semtypes)][subj_col])\n",
    "coronavirus_obj_terms = set(kg_df[kg_df[\"obj_semantic_type\"].isin(covid_semtypes)][obj_col])\n",
    "coronavirus_terms = coronavirus_subj_terms.union(coronavirus_obj_terms)\n",
    "\n",
    "print(\"There are\", len(coronavirus_terms), \"coronavirus-related terms (preferred name after normalizing COVID-19 and SARS-CoV-2)\")\n",
    "print(coronavirus_terms)"
   ]
  },
  {
   "cell_type": "code",
   "execution_count": 16,
   "metadata": {},
   "outputs": [],
   "source": [
    "# map semtype abbreviations to semantic group\n",
    "semtypes_df = pd.read_csv(os.path.join('semantic_type_files', 'SemanticTypes_2018AB.txt'), sep=\"|\", header=None)\n",
    "semgroups_df = pd.read_csv(os.path.join('semantic_type_files', 'SemGroups_2018.txt'), sep=\"|\", header=None)\n",
    "semgroups_df.columns = ['semgroup_abbreviation', 'semgroup', 'TUI', 'semtype']\n",
    "semtypes_df.columns = ['semtype_abbreviation', 'TUI', 'semtype']\n",
    "semtypes_df = semtypes_df.merge(semgroups_df, on=['TUI', 'semtype'])\n",
    "\n",
    "keys = semtypes_df[\"semtype_abbreviation\"]\n",
    "values = semtypes_df[\"semgroup\"]\n",
    "semtype_dictionary = dict(zip(keys, values))\n",
    "\n",
    "kg_df.replace({'subj_semantic_type': semtype_dictionary}, inplace=True)\n",
    "kg_df.replace({'obj_semantic_type': semtype_dictionary}, inplace=True)"
   ]
  },
  {
   "cell_type": "markdown",
   "metadata": {},
   "source": [
    "# Standardize relationships"
   ]
  },
  {
   "cell_type": "code",
   "execution_count": 17,
   "metadata": {},
   "outputs": [],
   "source": [
    "kg_df[rel_col] = kg_df[rel_col].str.replace(\"\\(SPEC\\)\", \"\")\n",
    "kg_df[rel_col] = kg_df[rel_col].str.replace(\"\\(INFER\\)\", \"\")"
   ]
  },
  {
   "cell_type": "markdown",
   "metadata": {},
   "source": [
    "# Filter relationships"
   ]
  },
  {
   "cell_type": "code",
   "execution_count": 18,
   "metadata": {
    "tags": []
   },
   "outputs": [
    {
     "name": "stdout",
     "output_type": "stream",
     "text": [
      "number of relationships (after removing low confidence entities) = 983462\n"
     ]
    }
   ],
   "source": [
    "# get most confidence and non-negated relationships\n",
    "kg_df = kg_df[(kg_df[\"subj_confidence_score\"]>=800)&(kg_df[\"obj_confidence_score\"]>=800)]\n",
    "print(\"number of relationships (after removing low confidence entities) =\", len(kg_df))"
   ]
  },
  {
   "cell_type": "code",
   "execution_count": 19,
   "metadata": {},
   "outputs": [
    {
     "name": "stdout",
     "output_type": "stream",
     "text": [
      "number of relationships (after removing self-loops) = 981153\n"
     ]
    }
   ],
   "source": [
    "# remove self-loops\n",
    "kg_df = kg_df[(kg_df[subj_col]!=kg_df[obj_col])&(kg_df['subj_CUI']!=kg_df['obj_CUI'])]\n",
    "print(\"number of relationships (after removing self-loops) =\", len(kg_df))"
   ]
  },
  {
   "cell_type": "code",
   "execution_count": 20,
   "metadata": {},
   "outputs": [
    {
     "name": "stdout",
     "output_type": "stream",
     "text": [
      "=== Before thresholding ===\n",
      "Number of edges (sum of weights): 981153\n",
      "Number of unique edges: 340194\n",
      "\n",
      "=== After thresholding ===\n",
      "Number of edges (sum of weights): 778965\n",
      "Number of unique edges: 138006\n",
      "\n"
     ]
    }
   ],
   "source": [
    "# filter relationships to only keep triples that occur at least twice\n",
    "weight_col = 'weight'\n",
    "weight_df = kg_df.groupby([subj_col, rel_col, obj_col])['subj_start'].count().reset_index().rename(columns={'subj_start': weight_col})\n",
    "thresh = 2\n",
    "weight_thresh_df = weight_df[weight_df[weight_col] >= thresh]\n",
    "kg_df = kg_df.merge(weight_thresh_df, on=[subj_col, rel_col, obj_col], how='inner')\n",
    "\n",
    "print('=== Before thresholding ===')\n",
    "print('Number of edges (sum of weights):', sum(weight_df[weight_col]))\n",
    "print('Number of unique edges:', len(weight_df))\n",
    "print()\n",
    "print('=== After thresholding ===')\n",
    "print('Number of edges (sum of weights):', sum(weight_thresh_df[weight_col]))\n",
    "print('Number of unique edges:', len(weight_thresh_df))\n",
    "print()"
   ]
  },
  {
   "cell_type": "code",
   "execution_count": 21,
   "metadata": {
    "tags": []
   },
   "outputs": [
    {
     "name": "stdout",
     "output_type": "stream",
     "text": [
      "number of relationships (after dropping duplicates) = 632830\n"
     ]
    }
   ],
   "source": [
    "# drop_duplicates()\n",
    "kg_df = kg_df.drop_duplicates(subset=['subj_start', 'subj_end', 'obj_start', 'obj_end', 'relation_start', 'relation_end', 'sentence_lower', subj_col, rel_col, obj_col])\n",
    "print(\"number of relationships (after dropping duplicates) =\", len(kg_df))"
   ]
  },
  {
   "cell_type": "markdown",
   "metadata": {},
   "source": [
    "# Format Text entities/nodes and Text-Document relationships for Neo4j Import"
   ]
  },
  {
   "cell_type": "code",
   "execution_count": 22,
   "metadata": {},
   "outputs": [],
   "source": [
    "# extract text/sentence information from triple\n",
    "sentences_id_df = kg_df[['paper_id', 'sentence']].drop_duplicates().reset_index(drop=True).reset_index().rename(columns={'index': 'text_id'})\n"
   ]
  },
  {
   "cell_type": "code",
   "execution_count": 23,
   "metadata": {},
   "outputs": [],
   "source": [
    "sentences_id_df['text_id'] = sentences_id_df['text_id'].astype(int)\n",
    "sentences_df = sentences_id_df.copy()\n",
    "sentences_df = sentences_df[['text_id', 'sentence']]\n",
    "sentences_df.columns = ['text_id:ID(Text)', 'text:STRING']\n",
    "sentences_df['section:STRING'] = 'abstract'\n",
    "sentences_df[':LABEL'] = 'Text'\n",
    "sentences_df.to_csv(os.path.join(NEO4J_OUTPUT_DIR, 'text_nodes.csv'), index=False)"
   ]
  },
  {
   "cell_type": "code",
   "execution_count": 24,
   "metadata": {},
   "outputs": [],
   "source": [
    "# Text-Document relationships\n",
    "kg_df_sent = kg_df.merge(sentences_id_df, on=['sentence', 'paper_id'], how='left')\n",
    "sentences_edges_df = kg_df_sent[['text_id', 'paper_id']].drop_duplicates()    \n",
    "sentences_edges_df.columns = ['text_id:START_ID(Text)', 'doc_id:END_ID(Document)']\n",
    "sentences_edges_df[':TYPE'] = 'in_document'\n",
    "sentences_edges_df.to_csv(os.path.join(NEO4J_OUTPUT_DIR, 'text_edges.csv'), index=False)"
   ]
  },
  {
   "cell_type": "markdown",
   "metadata": {},
   "source": [
    "# Create file for processed triples and their corresponding entities/nodes"
   ]
  },
  {
   "cell_type": "code",
   "execution_count": 25,
   "metadata": {},
   "outputs": [],
   "source": [
    "# columns in the edges file\n",
    "id_col = 'id' # the preferred name of the entity\n",
    "id_col_1 = id_col + \"1\"\n",
    "id_col_2 = id_col + \"2\"\n",
    "\n",
    "identifier_col = 'identifier' # the CUI of the entity\n",
    "identifier_col_1 = identifier_col + \"1\"\n",
    "identifier_col_2 = identifier_col + \"2\"\n",
    "\n",
    "type_col = 'type' # the semantic group of the entity\n",
    "type_col_1 = type_col + \"1\"\n",
    "type_col_2 = type_col + \"2\"\n",
    "\n",
    "info_col = 'info' # synonyms/original texts for the entity\n",
    "info_col_1 = info_col + \"1\"\n",
    "info_col_2 = info_col + \"2\"\n",
    "\n",
    "source_col = 'evidence_source' # what source the triple is from\n",
    "rel_col = ':TYPE' # relationship\n",
    "\n",
    "# what to name the columns after aggregation\n",
    "identifier_col_agg = identifier_col + \"s\"\n",
    "type_col_agg = type_col + \"s\"\n",
    "info_col_agg = info_col + \"s\""
   ]
  },
  {
   "cell_type": "code",
   "execution_count": 26,
   "metadata": {},
   "outputs": [
    {
     "name": "stderr",
     "output_type": "stream",
     "text": [
      "/opt/anaconda3/lib/python3.7/site-packages/ipykernel_launcher.py:11: SettingWithCopyWarning: \n",
      "A value is trying to be set on a copy of a slice from a DataFrame.\n",
      "Try using .loc[row_indexer,col_indexer] = value instead\n",
      "\n",
      "See the caveats in the documentation: https://pandas.pydata.org/pandas-docs/stable/user_guide/indexing.html#returning-a-view-versus-a-copy\n",
      "  # This is added back by InteractiveShellApp.init_path()\n"
     ]
    }
   ],
   "source": [
    "# update headers\n",
    "kg_df = kg_df_sent\n",
    "header = ['subj_preferred_name', 'subj_CUI', 'subj_semantic_type', 'subj_original_text', 'subj_start', 'subj_end',\n",
    "          'obj_preferred_name', 'obj_CUI', 'obj_semantic_type', 'obj_original_text', 'obj_start', 'obj_end',\n",
    "          'relation', 'relation_start', 'relation_end', 'text_id', weight_col]\n",
    "header_updated = [id_col_1, identifier_col_1, type_col_1, info_col_1, 'start1', 'end1',\n",
    "                  id_col_2, identifier_col_2, type_col_2, info_col_2, 'start2', 'end2',\n",
    "                  rel_col, 'startr', 'endr', 'text_id', weight_col]\n",
    "kg_df = kg_df[header]\n",
    "kg_df.columns = header_updated\n",
    "kg_df[source_col] = 'CORD-19'"
   ]
  },
  {
   "cell_type": "code",
   "execution_count": 27,
   "metadata": {},
   "outputs": [],
   "source": [
    "# collect nodes from triples\n",
    "temp1 = kg_df[[identifier_col_1, id_col_1, type_col_1, info_col_1]].rename(columns={identifier_col_1: identifier_col, id_col_1: id_col, info_col_1: info_col, type_col_1: type_col})\n",
    "temp2 = kg_df[[identifier_col_2, id_col_2, type_col_2, info_col_2]].rename(columns={identifier_col_2: identifier_col, id_col_2: id_col, info_col_2: info_col, type_col_2: type_col})\n",
    "node_df = temp1.append(temp2).drop_duplicates().dropna()"
   ]
  },
  {
   "cell_type": "code",
   "execution_count": 28,
   "metadata": {},
   "outputs": [],
   "source": [
    "# group entities by id (preferred name) and collect different identifiers, types, and infos\n",
    "temp = node_df.groupby(id_col, as_index=False).agg({identifier_col: lambda x: ';'.join(set(x)), type_col: lambda x: ';'.join(set(x)), info_col: lambda x: ';'.join(set(x))})\n",
    "node_id_mapping_df = node_df[[identifier_col, id_col, type_col, info_col]].merge(temp, on=[id_col])\n",
    "node_id_mapping_df.columns = [identifier_col, id_col, type_col, info_col, identifier_col_agg, type_col_agg, info_col_agg]\n",
    "node_id_mapping_df.to_csv(NODE_MAPPING_FILE_PATH , index=False)"
   ]
  },
  {
   "cell_type": "code",
   "execution_count": 29,
   "metadata": {},
   "outputs": [],
   "source": [
    "# update the node information in the triples\n",
    "kg_df = kg_df.merge(node_id_mapping_df[[id_col, info_col_agg, type_col_agg, identifier_col_agg]].drop_duplicates(), left_on=id_col_1, right_on=id_col, how='left').drop([id_col, identifier_col_1, type_col_1, info_col_1], axis=1).rename(columns={identifier_col_agg: identifier_col_1, type_col_agg: type_col_1, info_col_agg: info_col_1})\n",
    "kg_df = kg_df.merge(node_id_mapping_df[[id_col, info_col_agg, type_col_agg, identifier_col_agg]].drop_duplicates(), left_on=id_col_2, right_on=id_col, how='left').drop([id_col, identifier_col_2, type_col_2, info_col_2], axis=1).rename(columns={identifier_col_agg: identifier_col_2, type_col_agg: type_col_2, info_col_agg: info_col_2})"
   ]
  },
  {
   "cell_type": "code",
   "execution_count": 30,
   "metadata": {},
   "outputs": [],
   "source": [
    "# saved the processed triples\n",
    "kg_df.to_csv(OUTPUT_FILE_PATH, index=False)"
   ]
  },
  {
   "cell_type": "code",
   "execution_count": 31,
   "metadata": {},
   "outputs": [
    {
     "data": {
      "text/html": [
       "<div>\n",
       "<style scoped>\n",
       "    .dataframe tbody tr th:only-of-type {\n",
       "        vertical-align: middle;\n",
       "    }\n",
       "\n",
       "    .dataframe tbody tr th {\n",
       "        vertical-align: top;\n",
       "    }\n",
       "\n",
       "    .dataframe thead th {\n",
       "        text-align: right;\n",
       "    }\n",
       "</style>\n",
       "<table border=\"1\" class=\"dataframe\">\n",
       "  <thead>\n",
       "    <tr style=\"text-align: right;\">\n",
       "      <th></th>\n",
       "      <th>id1</th>\n",
       "      <th>start1</th>\n",
       "      <th>end1</th>\n",
       "      <th>id2</th>\n",
       "      <th>start2</th>\n",
       "      <th>end2</th>\n",
       "      <th>:TYPE</th>\n",
       "      <th>startr</th>\n",
       "      <th>endr</th>\n",
       "      <th>text_id</th>\n",
       "      <th>weight</th>\n",
       "      <th>evidence_source</th>\n",
       "      <th>info1</th>\n",
       "      <th>type1</th>\n",
       "      <th>identifier1</th>\n",
       "      <th>info2</th>\n",
       "      <th>type2</th>\n",
       "      <th>identifier2</th>\n",
       "    </tr>\n",
       "  </thead>\n",
       "  <tbody>\n",
       "    <tr>\n",
       "      <th>0</th>\n",
       "      <td>Suicidal behavior</td>\n",
       "      <td>50</td>\n",
       "      <td>67</td>\n",
       "      <td>Participant</td>\n",
       "      <td>33</td>\n",
       "      <td>45</td>\n",
       "      <td>PROCESS_OF</td>\n",
       "      <td>46</td>\n",
       "      <td>49</td>\n",
       "      <td>0</td>\n",
       "      <td>3</td>\n",
       "      <td>CORD-19</td>\n",
       "      <td>sb;suicide behavior;suicide behaviors;suicidal...</td>\n",
       "      <td>Disorders</td>\n",
       "      <td>C1760428</td>\n",
       "      <td>gpps;participants;participant's;participant</td>\n",
       "      <td>Living Beings</td>\n",
       "      <td>C0679646</td>\n",
       "    </tr>\n",
       "    <tr>\n",
       "      <th>1</th>\n",
       "      <td>Suicidal behavior</td>\n",
       "      <td>894</td>\n",
       "      <td>911</td>\n",
       "      <td>Participant</td>\n",
       "      <td>877</td>\n",
       "      <td>889</td>\n",
       "      <td>PROCESS_OF</td>\n",
       "      <td>890</td>\n",
       "      <td>893</td>\n",
       "      <td>1</td>\n",
       "      <td>3</td>\n",
       "      <td>CORD-19</td>\n",
       "      <td>sb;suicide behavior;suicide behaviors;suicidal...</td>\n",
       "      <td>Disorders</td>\n",
       "      <td>C1760428</td>\n",
       "      <td>gpps;participants;participant's;participant</td>\n",
       "      <td>Living Beings</td>\n",
       "      <td>C0679646</td>\n",
       "    </tr>\n",
       "    <tr>\n",
       "      <th>2</th>\n",
       "      <td>Suicidal behavior</td>\n",
       "      <td>110</td>\n",
       "      <td>127</td>\n",
       "      <td>Participant</td>\n",
       "      <td>0</td>\n",
       "      <td>12</td>\n",
       "      <td>PROCESS_OF</td>\n",
       "      <td>76</td>\n",
       "      <td>79</td>\n",
       "      <td>2</td>\n",
       "      <td>3</td>\n",
       "      <td>CORD-19</td>\n",
       "      <td>sb;suicide behavior;suicide behaviors;suicidal...</td>\n",
       "      <td>Disorders</td>\n",
       "      <td>C1760428</td>\n",
       "      <td>gpps;participants;participant's;participant</td>\n",
       "      <td>Living Beings</td>\n",
       "      <td>C0679646</td>\n",
       "    </tr>\n",
       "    <tr>\n",
       "      <th>3</th>\n",
       "      <td>Endosomes</td>\n",
       "      <td>118</td>\n",
       "      <td>127</td>\n",
       "      <td>Virus</td>\n",
       "      <td>76</td>\n",
       "      <td>83</td>\n",
       "      <td>LOCATION_OF</td>\n",
       "      <td>115</td>\n",
       "      <td>117</td>\n",
       "      <td>3</td>\n",
       "      <td>10</td>\n",
       "      <td>CORD-19</td>\n",
       "      <td>endosomal;endosomes;endosome</td>\n",
       "      <td>Anatomy</td>\n",
       "      <td>C0034850</td>\n",
       "      <td>ndv;wiv;imnv;general, enteric viruses;eeev;vir...</td>\n",
       "      <td>Living Beings</td>\n",
       "      <td>C0042776</td>\n",
       "    </tr>\n",
       "    <tr>\n",
       "      <th>4</th>\n",
       "      <td>Endosomes</td>\n",
       "      <td>194</td>\n",
       "      <td>202</td>\n",
       "      <td>Virus</td>\n",
       "      <td>179</td>\n",
       "      <td>184</td>\n",
       "      <td>LOCATION_OF</td>\n",
       "      <td>185</td>\n",
       "      <td>189</td>\n",
       "      <td>4</td>\n",
       "      <td>10</td>\n",
       "      <td>CORD-19</td>\n",
       "      <td>endosomal;endosomes;endosome</td>\n",
       "      <td>Anatomy</td>\n",
       "      <td>C0034850</td>\n",
       "      <td>ndv;wiv;imnv;general, enteric viruses;eeev;vir...</td>\n",
       "      <td>Living Beings</td>\n",
       "      <td>C0042776</td>\n",
       "    </tr>\n",
       "    <tr>\n",
       "      <th>...</th>\n",
       "      <td>...</td>\n",
       "      <td>...</td>\n",
       "      <td>...</td>\n",
       "      <td>...</td>\n",
       "      <td>...</td>\n",
       "      <td>...</td>\n",
       "      <td>...</td>\n",
       "      <td>...</td>\n",
       "      <td>...</td>\n",
       "      <td>...</td>\n",
       "      <td>...</td>\n",
       "      <td>...</td>\n",
       "      <td>...</td>\n",
       "      <td>...</td>\n",
       "      <td>...</td>\n",
       "      <td>...</td>\n",
       "      <td>...</td>\n",
       "      <td>...</td>\n",
       "    </tr>\n",
       "    <tr>\n",
       "      <th>632825</th>\n",
       "      <td>Anesthesia procedures</td>\n",
       "      <td>98</td>\n",
       "      <td>109</td>\n",
       "      <td>Midazolam</td>\n",
       "      <td>58</td>\n",
       "      <td>67</td>\n",
       "      <td>USES</td>\n",
       "      <td>85</td>\n",
       "      <td>88</td>\n",
       "      <td>136429</td>\n",
       "      <td>2</td>\n",
       "      <td>CORD-19</td>\n",
       "      <td>anesthesia;ofa;anaesthesia;na;lfa;aaga;oa</td>\n",
       "      <td>Procedures</td>\n",
       "      <td>C0002903</td>\n",
       "      <td>midazolam;pb/m</td>\n",
       "      <td>Chemicals &amp; Drugs</td>\n",
       "      <td>C0026056</td>\n",
       "    </tr>\n",
       "    <tr>\n",
       "      <th>632826</th>\n",
       "      <td>Anesthesia procedures</td>\n",
       "      <td>20</td>\n",
       "      <td>31</td>\n",
       "      <td>Midazolam</td>\n",
       "      <td>48</td>\n",
       "      <td>57</td>\n",
       "      <td>USES</td>\n",
       "      <td>32</td>\n",
       "      <td>36</td>\n",
       "      <td>410608</td>\n",
       "      <td>2</td>\n",
       "      <td>CORD-19</td>\n",
       "      <td>anesthesia;ofa;anaesthesia;na;lfa;aaga;oa</td>\n",
       "      <td>Procedures</td>\n",
       "      <td>C0002903</td>\n",
       "      <td>midazolam;pb/m</td>\n",
       "      <td>Chemicals &amp; Drugs</td>\n",
       "      <td>C0026056</td>\n",
       "    </tr>\n",
       "    <tr>\n",
       "      <th>632827</th>\n",
       "      <td>sevoflurane</td>\n",
       "      <td>100</td>\n",
       "      <td>111</td>\n",
       "      <td>Old World rabbit</td>\n",
       "      <td>42</td>\n",
       "      <td>49</td>\n",
       "      <td>ADMINISTERED_TO</td>\n",
       "      <td>50</td>\n",
       "      <td>59</td>\n",
       "      <td>410609</td>\n",
       "      <td>3</td>\n",
       "      <td>CORD-19</td>\n",
       "      <td>sevoflurane;spc</td>\n",
       "      <td>Chemicals &amp; Drugs</td>\n",
       "      <td>C0074414</td>\n",
       "      <td>domestic rabbits;rabbits;european rabbit</td>\n",
       "      <td>Living Beings</td>\n",
       "      <td>C0324889</td>\n",
       "    </tr>\n",
       "    <tr>\n",
       "      <th>632828</th>\n",
       "      <td>sevoflurane</td>\n",
       "      <td>21</td>\n",
       "      <td>32</td>\n",
       "      <td>Old World rabbit</td>\n",
       "      <td>3</td>\n",
       "      <td>10</td>\n",
       "      <td>ADMINISTERED_TO</td>\n",
       "      <td>11</td>\n",
       "      <td>20</td>\n",
       "      <td>134111</td>\n",
       "      <td>3</td>\n",
       "      <td>CORD-19</td>\n",
       "      <td>sevoflurane;spc</td>\n",
       "      <td>Chemicals &amp; Drugs</td>\n",
       "      <td>C0074414</td>\n",
       "      <td>domestic rabbits;rabbits;european rabbit</td>\n",
       "      <td>Living Beings</td>\n",
       "      <td>C0324889</td>\n",
       "    </tr>\n",
       "    <tr>\n",
       "      <th>632829</th>\n",
       "      <td>sevoflurane</td>\n",
       "      <td>100</td>\n",
       "      <td>111</td>\n",
       "      <td>Old World rabbit</td>\n",
       "      <td>82</td>\n",
       "      <td>89</td>\n",
       "      <td>ADMINISTERED_TO</td>\n",
       "      <td>90</td>\n",
       "      <td>99</td>\n",
       "      <td>410610</td>\n",
       "      <td>3</td>\n",
       "      <td>CORD-19</td>\n",
       "      <td>sevoflurane;spc</td>\n",
       "      <td>Chemicals &amp; Drugs</td>\n",
       "      <td>C0074414</td>\n",
       "      <td>domestic rabbits;rabbits;european rabbit</td>\n",
       "      <td>Living Beings</td>\n",
       "      <td>C0324889</td>\n",
       "    </tr>\n",
       "  </tbody>\n",
       "</table>\n",
       "<p>632830 rows × 18 columns</p>\n",
       "</div>"
      ],
      "text/plain": [
       "                          id1  start1  end1               id2  start2  end2  \\\n",
       "0           Suicidal behavior      50    67       Participant      33    45   \n",
       "1           Suicidal behavior     894   911       Participant     877   889   \n",
       "2           Suicidal behavior     110   127       Participant       0    12   \n",
       "3                   Endosomes     118   127             Virus      76    83   \n",
       "4                   Endosomes     194   202             Virus     179   184   \n",
       "...                       ...     ...   ...               ...     ...   ...   \n",
       "632825  Anesthesia procedures      98   109         Midazolam      58    67   \n",
       "632826  Anesthesia procedures      20    31         Midazolam      48    57   \n",
       "632827            sevoflurane     100   111  Old World rabbit      42    49   \n",
       "632828            sevoflurane      21    32  Old World rabbit       3    10   \n",
       "632829            sevoflurane     100   111  Old World rabbit      82    89   \n",
       "\n",
       "                  :TYPE  startr  endr  text_id  weight evidence_source  \\\n",
       "0            PROCESS_OF      46    49        0       3         CORD-19   \n",
       "1            PROCESS_OF     890   893        1       3         CORD-19   \n",
       "2            PROCESS_OF      76    79        2       3         CORD-19   \n",
       "3           LOCATION_OF     115   117        3      10         CORD-19   \n",
       "4           LOCATION_OF     185   189        4      10         CORD-19   \n",
       "...                 ...     ...   ...      ...     ...             ...   \n",
       "632825             USES      85    88   136429       2         CORD-19   \n",
       "632826             USES      32    36   410608       2         CORD-19   \n",
       "632827  ADMINISTERED_TO      50    59   410609       3         CORD-19   \n",
       "632828  ADMINISTERED_TO      11    20   134111       3         CORD-19   \n",
       "632829  ADMINISTERED_TO      90    99   410610       3         CORD-19   \n",
       "\n",
       "                                                    info1              type1  \\\n",
       "0       sb;suicide behavior;suicide behaviors;suicidal...          Disorders   \n",
       "1       sb;suicide behavior;suicide behaviors;suicidal...          Disorders   \n",
       "2       sb;suicide behavior;suicide behaviors;suicidal...          Disorders   \n",
       "3                            endosomal;endosomes;endosome            Anatomy   \n",
       "4                            endosomal;endosomes;endosome            Anatomy   \n",
       "...                                                   ...                ...   \n",
       "632825          anesthesia;ofa;anaesthesia;na;lfa;aaga;oa         Procedures   \n",
       "632826          anesthesia;ofa;anaesthesia;na;lfa;aaga;oa         Procedures   \n",
       "632827                                    sevoflurane;spc  Chemicals & Drugs   \n",
       "632828                                    sevoflurane;spc  Chemicals & Drugs   \n",
       "632829                                    sevoflurane;spc  Chemicals & Drugs   \n",
       "\n",
       "       identifier1                                              info2  \\\n",
       "0         C1760428        gpps;participants;participant's;participant   \n",
       "1         C1760428        gpps;participants;participant's;participant   \n",
       "2         C1760428        gpps;participants;participant's;participant   \n",
       "3         C0034850  ndv;wiv;imnv;general, enteric viruses;eeev;vir...   \n",
       "4         C0034850  ndv;wiv;imnv;general, enteric viruses;eeev;vir...   \n",
       "...            ...                                                ...   \n",
       "632825    C0002903                                     midazolam;pb/m   \n",
       "632826    C0002903                                     midazolam;pb/m   \n",
       "632827    C0074414           domestic rabbits;rabbits;european rabbit   \n",
       "632828    C0074414           domestic rabbits;rabbits;european rabbit   \n",
       "632829    C0074414           domestic rabbits;rabbits;european rabbit   \n",
       "\n",
       "                    type2 identifier2  \n",
       "0           Living Beings    C0679646  \n",
       "1           Living Beings    C0679646  \n",
       "2           Living Beings    C0679646  \n",
       "3           Living Beings    C0042776  \n",
       "4           Living Beings    C0042776  \n",
       "...                   ...         ...  \n",
       "632825  Chemicals & Drugs    C0026056  \n",
       "632826  Chemicals & Drugs    C0026056  \n",
       "632827      Living Beings    C0324889  \n",
       "632828      Living Beings    C0324889  \n",
       "632829      Living Beings    C0324889  \n",
       "\n",
       "[632830 rows x 18 columns]"
      ]
     },
     "execution_count": 31,
     "metadata": {},
     "output_type": "execute_result"
    }
   ],
   "source": [
    "kg_df"
   ]
  }
 ],
 "metadata": {
  "kernelspec": {
   "display_name": "Python 3",
   "language": "python",
   "name": "python3"
  },
  "language_info": {
   "codemirror_mode": {
    "name": "ipython",
    "version": 3
   },
   "file_extension": ".py",
   "mimetype": "text/x-python",
   "name": "python",
   "nbconvert_exporter": "python",
   "pygments_lexer": "ipython3",
   "version": "3.7.4"
  }
 },
 "nbformat": 4,
 "nbformat_minor": 2
}
