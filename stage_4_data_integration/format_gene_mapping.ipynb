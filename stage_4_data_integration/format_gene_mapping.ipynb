{
 "cells": [
  {
   "cell_type": "code",
   "execution_count": 1,
   "metadata": {},
   "outputs": [],
   "source": [
    "import pandas as pd\n",
    "import os"
   ]
  },
  {
   "cell_type": "code",
   "execution_count": 2,
   "metadata": {},
   "outputs": [],
   "source": [
    "DATA_DIR = 'integration_data'\n",
    "\n",
    "gene_mapping_filepath = os.path.join(DATA_DIR, 'gene_name_map.txt') # text file generated from HGCN website\n",
    "cui_to_hgnc_filepath = os.path.join(DATA_DIR, 'HGNC_to_CUI.csv') # CUI to HGNC mapping from UMLS \n",
    "gene_mapping_output_filepath = os.path.join(DATA_DIR, 'gene_mapping.csv') # where the formatted gene mapping is to be ouputted"
   ]
  },
  {
   "cell_type": "code",
   "execution_count": 3,
   "metadata": {},
   "outputs": [],
   "source": [
    "# explode alias symbols to map alias symbols to approved symbols\n",
    "\n",
    "gene_name_map_df = pd.read_csv(gene_mapping_filepath, sep=\"\\t\", dtype=str)\n",
    "# add official symbol as alias for mapping\n",
    "gene_name_map_df['Alias symbols'] = gene_name_map_df['Alias symbols'].fillna('')\n",
    "gene_name_map_df['Alias symbols'] = gene_name_map_df['Alias symbols'] + \", \" + gene_name_map_df['Approved symbol']\n",
    "# put alias symbols in list for exploding\n",
    "gene_name_map_df['Alias symbols'] = gene_name_map_df['Alias symbols'].apply(lambda x: [symb for symb in str(x).split(\", \") if symb])\n",
    "gene_name_map_df = gene_name_map_df.explode('Alias symbols')\n",
    "gene_name_map_df = gene_name_map_df.rename(columns={'Alias symbols': 'Alias symbol'})"
   ]
  },
  {
   "cell_type": "code",
   "execution_count": 4,
   "metadata": {},
   "outputs": [],
   "source": [
    "# add CUI\n",
    "cui_to_hgnc = pd.read_csv(cui_to_hgnc_filepath)\n",
    "gene_name_map_df = gene_name_map_df.merge(cui_to_hgnc, how='left', on='HGNC ID')"
   ]
  },
  {
   "cell_type": "code",
   "execution_count": 5,
   "metadata": {},
   "outputs": [],
   "source": [
    "# save to csv\n",
    "gene_name_map_df.to_csv(gene_mapping_output_filepath, index=False)"
   ]
  },
  {
   "cell_type": "code",
   "execution_count": null,
   "metadata": {},
   "outputs": [],
   "source": []
  }
 ],
 "metadata": {
  "kernelspec": {
   "display_name": "Python 3",
   "language": "python",
   "name": "python3"
  },
  "language_info": {
   "codemirror_mode": {
    "name": "ipython",
    "version": 3
   },
   "file_extension": ".py",
   "mimetype": "text/x-python",
   "name": "python",
   "nbconvert_exporter": "python",
   "pygments_lexer": "ipython3",
   "version": "3.7.4"
  }
 },
 "nbformat": 4,
 "nbformat_minor": 2
}
