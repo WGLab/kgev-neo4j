{
 "cells": [
  {
   "cell_type": "code",
   "execution_count": 1,
   "metadata": {},
   "outputs": [],
   "source": [
    "import pandas as pd\n",
    "import os"
   ]
  },
  {
   "cell_type": "code",
   "execution_count": 2,
   "metadata": {},
   "outputs": [],
   "source": [
    "DATA_DIR = 'integration_data'\n",
    "\n",
    "gene_mapping_filepath = os.path.join(DATA_DIR, 'gene_name_map.txt') # text file generated from HGCN website\n",
    "cui_to_hgnc_filepath = os.path.join(DATA_DIR, 'HGNC_to_CUI.csv') # CUI to HGNC mapping from UMLS \n",
    "gene_mapping_output_filepath = os.path.join(DATA_DIR, 'gene_mapping.csv') # where the formatted gene mapping is to be ouputted"
   ]
  },
  {
   "cell_type": "code",
   "execution_count": 3,
   "metadata": {},
   "outputs": [],
   "source": [
    "gene_name_map_df = pd.read_csv(gene_mapping_filepath, sep=\"\\t\", dtype=str)"
   ]
  },
  {
   "cell_type": "code",
   "execution_count": 4,
   "metadata": {},
   "outputs": [],
   "source": [
    "# add CUI\n",
    "cui_to_hgnc = pd.read_csv(cui_to_hgnc_filepath)\n",
    "gene_name_map_df = gene_name_map_df.merge(cui_to_hgnc, how='left', on='HGNC ID').rename(columns={\"CUI\": \"CUI_gene\"})"
   ]
  },
  {
   "cell_type": "code",
   "execution_count": 5,
   "metadata": {},
   "outputs": [],
   "source": [
    "# save to csv\n",
    "gene_name_map_df.to_csv(gene_mapping_output_filepath, index=False)"
   ]
  },
  {
   "cell_type": "code",
   "execution_count": 6,
   "metadata": {},
   "outputs": [
    {
     "data": {
      "text/html": [
       "<div>\n",
       "<style scoped>\n",
       "    .dataframe tbody tr th:only-of-type {\n",
       "        vertical-align: middle;\n",
       "    }\n",
       "\n",
       "    .dataframe tbody tr th {\n",
       "        vertical-align: top;\n",
       "    }\n",
       "\n",
       "    .dataframe thead th {\n",
       "        text-align: right;\n",
       "    }\n",
       "</style>\n",
       "<table border=\"1\" class=\"dataframe\">\n",
       "  <thead>\n",
       "    <tr style=\"text-align: right;\">\n",
       "      <th></th>\n",
       "      <th>HGNC ID</th>\n",
       "      <th>Approved symbol</th>\n",
       "      <th>Alias symbols</th>\n",
       "      <th>UniProt ID(supplied by UniProt)</th>\n",
       "      <th>OMIM ID(supplied by OMIM)</th>\n",
       "      <th>NCBI Gene ID(supplied by NCBI)</th>\n",
       "      <th>Ensembl ID(supplied by Ensembl)</th>\n",
       "      <th>CUI_gene</th>\n",
       "    </tr>\n",
       "  </thead>\n",
       "  <tbody>\n",
       "    <tr>\n",
       "      <th>0</th>\n",
       "      <td>HGNC:1</td>\n",
       "      <td>A12M1</td>\n",
       "      <td>NaN</td>\n",
       "      <td>NaN</td>\n",
       "      <td>NaN</td>\n",
       "      <td>NaN</td>\n",
       "      <td>NaN</td>\n",
       "      <td>NaN</td>\n",
       "    </tr>\n",
       "    <tr>\n",
       "      <th>1</th>\n",
       "      <td>HGNC:10</td>\n",
       "      <td>A2MRAP</td>\n",
       "      <td>NaN</td>\n",
       "      <td>NaN</td>\n",
       "      <td>NaN</td>\n",
       "      <td>NaN</td>\n",
       "      <td>NaN</td>\n",
       "      <td>NaN</td>\n",
       "    </tr>\n",
       "    <tr>\n",
       "      <th>2</th>\n",
       "      <td>HGNC:100</td>\n",
       "      <td>ASIC1</td>\n",
       "      <td>BNaC2, hBNaC2</td>\n",
       "      <td>P78348</td>\n",
       "      <td>602866</td>\n",
       "      <td>41</td>\n",
       "      <td>ENSG00000110881</td>\n",
       "      <td>C1412115</td>\n",
       "    </tr>\n",
       "    <tr>\n",
       "      <th>3</th>\n",
       "      <td>HGNC:1000</td>\n",
       "      <td>BCL5</td>\n",
       "      <td>NaN</td>\n",
       "      <td>NaN</td>\n",
       "      <td>NaN</td>\n",
       "      <td>NaN</td>\n",
       "      <td>NaN</td>\n",
       "      <td>C1412765</td>\n",
       "    </tr>\n",
       "    <tr>\n",
       "      <th>4</th>\n",
       "      <td>HGNC:10000</td>\n",
       "      <td>RGS4</td>\n",
       "      <td>NaN</td>\n",
       "      <td>P49798</td>\n",
       "      <td>602516</td>\n",
       "      <td>5999</td>\n",
       "      <td>ENSG00000117152</td>\n",
       "      <td>C1419374</td>\n",
       "    </tr>\n",
       "  </tbody>\n",
       "</table>\n",
       "</div>"
      ],
      "text/plain": [
       "      HGNC ID Approved symbol  Alias symbols UniProt ID(supplied by UniProt)  \\\n",
       "0      HGNC:1           A12M1            NaN                             NaN   \n",
       "1     HGNC:10          A2MRAP            NaN                             NaN   \n",
       "2    HGNC:100           ASIC1  BNaC2, hBNaC2                          P78348   \n",
       "3   HGNC:1000            BCL5            NaN                             NaN   \n",
       "4  HGNC:10000            RGS4            NaN                          P49798   \n",
       "\n",
       "  OMIM ID(supplied by OMIM) NCBI Gene ID(supplied by NCBI)  \\\n",
       "0                       NaN                            NaN   \n",
       "1                       NaN                            NaN   \n",
       "2                    602866                             41   \n",
       "3                       NaN                            NaN   \n",
       "4                    602516                           5999   \n",
       "\n",
       "  Ensembl ID(supplied by Ensembl)  CUI_gene  \n",
       "0                             NaN       NaN  \n",
       "1                             NaN       NaN  \n",
       "2                 ENSG00000110881  C1412115  \n",
       "3                             NaN  C1412765  \n",
       "4                 ENSG00000117152  C1419374  "
      ]
     },
     "execution_count": 6,
     "metadata": {},
     "output_type": "execute_result"
    }
   ],
   "source": [
    "gene_name_map_df.head()"
   ]
  },
  {
   "cell_type": "code",
   "execution_count": null,
   "metadata": {},
   "outputs": [],
   "source": []
  }
 ],
 "metadata": {
  "kernelspec": {
   "display_name": "Python 3",
   "language": "python",
   "name": "python3"
  },
  "language_info": {
   "codemirror_mode": {
    "name": "ipython",
    "version": 3
   },
   "file_extension": ".py",
   "mimetype": "text/x-python",
   "name": "python",
   "nbconvert_exporter": "python",
   "pygments_lexer": "ipython3",
   "version": "3.7.4"
  }
 },
 "nbformat": 4,
 "nbformat_minor": 2
}
