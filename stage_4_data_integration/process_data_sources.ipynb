{
 "cells": [
  {
   "cell_type": "code",
   "execution_count": 1,
   "metadata": {},
   "outputs": [],
   "source": [
    "import pandas as pd\n",
    "import numpy as np\n",
    "import os\n",
    "\n",
    "DATA_DIR = 'integration_data' # data from sources\n",
    "OUTPUT_DATA_DIR = 'integration_data_processed' # processed data from sources (where output of the code will be stored)"
   ]
  },
  {
   "cell_type": "code",
   "execution_count": 2,
   "metadata": {},
   "outputs": [],
   "source": [
    "gene_mapping_filepath = os.path.join(DATA_DIR, 'gene_mapping.csv')\n",
    "go_to_cui_filepath = os.path.join(DATA_DIR, 'GO_to_CUI.csv')\n",
    "hpo_to_cui_filepath = os.path.join(DATA_DIR, 'HPO_to_CUI.csv')\n",
    "\n",
    "gene_mapping_df = pd.read_csv(gene_mapping_filepath)\n",
    "\n",
    "go_to_cui_df = pd.read_csv(go_to_cui_filepath)\n",
    "hpo_to_cui_df = pd.read_csv(hpo_to_cui_filepath)"
   ]
  },
  {
   "cell_type": "markdown",
   "metadata": {},
   "source": [
    "# Format DisGeNET"
   ]
  },
  {
   "cell_type": "markdown",
   "metadata": {},
   "source": [
    "Format disease-gene interactions from DisGeNET (https://www.disgenet.org/downloads). Standardize diseases to MESH and genes to their UMLS CUI."
   ]
  },
  {
   "cell_type": "code",
   "execution_count": 3,
   "metadata": {},
   "outputs": [],
   "source": [
    "input_filepath = os.path.join(DATA_DIR, 'curated_gene_disease_associations.tsv')\n",
    "output_filepath = os.path.join(OUTPUT_DATA_DIR, 'disease_gene_relationships.csv')"
   ]
  },
  {
   "cell_type": "code",
   "execution_count": 4,
   "metadata": {},
   "outputs": [],
   "source": [
    "df = pd.read_csv(input_filepath, sep='\\t')\n",
    "df = df.rename(columns={'diseaseId': 'CUI_disease'})\n",
    "df = df.merge(gene_mapping_df[['Alias symbol', 'CUI']], left_on='geneSymbol', right_on='Alias symbol').rename(columns={'CUI': 'CUI_gene'})\n",
    "df = df[['CUI_disease', 'CUI_gene', 'score']].drop_duplicates().dropna()\n",
    "df.to_csv(output_filepath, index=False)"
   ]
  },
  {
   "cell_type": "markdown",
   "metadata": {},
   "source": [
    "# Format DGIdb\n",
    "Format drug-gene interactions from DGIdb (https://www.dgidb.org/downloads). Standardize drugs and genes to their official UMLS CUI."
   ]
  },
  {
   "cell_type": "code",
   "execution_count": 5,
   "metadata": {},
   "outputs": [],
   "source": [
    "input_filepath = os.path.join(DATA_DIR, 'drug_gene_interactions.tsv')\n",
    "output_filepath = os.path.join(OUTPUT_DATA_DIR, 'drug_gene_relationships.csv')"
   ]
  },
  {
   "cell_type": "code",
   "execution_count": 6,
   "metadata": {},
   "outputs": [],
   "source": [
    "df = pd.read_csv(input_filepath, sep='\\t')"
   ]
  },
  {
   "cell_type": "code",
   "execution_count": 7,
   "metadata": {},
   "outputs": [],
   "source": [
    "# convert gene symbol to CUI\n",
    "df = df.merge(gene_mapping_df[['Alias symbol', 'CUI']], left_on='gene_name', right_on='Alias symbol').rename(columns={'CUI': 'CUI_gene'})\n",
    "df = df.drop_duplicates()"
   ]
  },
  {
   "cell_type": "code",
   "execution_count": 8,
   "metadata": {},
   "outputs": [],
   "source": [
    "# convert drug name to CUI\n",
    "literature_df = pd.read_csv('../data/semrep_relationships_processed.csv')\n",
    "id_to_cui_1 = literature_df[['info1', 'identifier1']].rename(columns={'info1': 'info', 'identifier1': 'identifier'})\n",
    "id_to_cui_2 = literature_df[['info2', 'identifier2']].rename(columns={'info2': 'info', 'identifier2': 'identifier'})\n",
    "\n",
    "id_to_cui = id_to_cui_1.append(id_to_cui_2).drop_duplicates()\n",
    "id_to_cui['info'] = id_to_cui['info'].apply(lambda x: x.split(';'))\n",
    "id_to_cui = id_to_cui.explode('info')"
   ]
  },
  {
   "cell_type": "code",
   "execution_count": 9,
   "metadata": {},
   "outputs": [],
   "source": [
    "df['drug_claim_primary_name'] = df['drug_claim_primary_name'].str.lower()\n",
    "df = df.merge(id_to_cui, left_on='drug_claim_primary_name', right_on='info', how='left')[['identifier', 'CUI_gene', 'interaction_group_score']].drop_duplicates().dropna()\n",
    "df.columns = ['CUI_drug', 'CUI_gene', 'interaction_group_score']\n",
    "df.to_csv(output_filepath, index=False)"
   ]
  },
  {
   "cell_type": "markdown",
   "metadata": {},
   "source": [
    "# Format STRING\n",
    "Format protein-protein interactions from STRING (https://string-db.org/cgi/download?sessionId=%24input-%3E%7BsessionId%7D&species_text=Homo+sapiens). Standardize proteins to their gene CUI."
   ]
  },
  {
   "cell_type": "code",
   "execution_count": 10,
   "metadata": {},
   "outputs": [],
   "source": [
    "input_filepath = os.path.join(DATA_DIR, '9606.protein.links.v11.0.txt')\n",
    "string_info_filepath = os.path.join(DATA_DIR, '9606.protein.info.v11.0.txt')\n",
    "output_filepath = os.path.join(OUTPUT_DATA_DIR, 'gene_gene_relationships.csv')"
   ]
  },
  {
   "cell_type": "code",
   "execution_count": 11,
   "metadata": {},
   "outputs": [],
   "source": [
    "info_df = pd.read_csv(string_info_filepath, sep=\"\\t\")"
   ]
  },
  {
   "cell_type": "code",
   "execution_count": 12,
   "metadata": {},
   "outputs": [],
   "source": [
    "# threshold to only use PPI with combined score > 700 (out of 1000)\n",
    "interactions_df = pd.read_csv(input_filepath, sep=\" \")\n",
    "THRESHOLD = 700\n",
    "interactions_df = interactions_df[interactions_df['combined_score'] > THRESHOLD]"
   ]
  },
  {
   "cell_type": "code",
   "execution_count": 13,
   "metadata": {},
   "outputs": [],
   "source": [
    "# convert ENSP protein ID to gene symbol\n",
    "df = interactions_df.merge(info_df, how='left', left_on='protein1', right_on='protein_external_id').drop('protein_external_id', axis=1).rename(columns={'preferred_name': 'preferred_name1'})\n",
    "df = df.merge(info_df, how='left', left_on='protein2', right_on='protein_external_id').drop('protein_external_id', axis=1).rename(columns={'preferred_name': 'preferred_name2'})\n"
   ]
  },
  {
   "cell_type": "code",
   "execution_count": 14,
   "metadata": {},
   "outputs": [],
   "source": [
    "# convert gene symbol to CUI\n",
    "df = df.merge(gene_mapping_df[['Alias symbol', 'CUI']].dropna().drop_duplicates(), how='left', left_on='preferred_name1', right_on='Alias symbol').drop('Alias symbol', axis=1).rename(columns={'CUI': 'CUI_gene_1'})\n",
    "df = df.merge(gene_mapping_df[['Alias symbol', 'CUI']].dropna().drop_duplicates(), how='left', left_on='preferred_name2', right_on='Alias symbol').drop('Alias symbol', axis=1).rename(columns={'CUI': 'CUI_gene_2'})\n",
    "df = df[['CUI_gene_1', 'CUI_gene_2', 'combined_score']].drop_duplicates().dropna()\n",
    "df.to_csv(output_filepath, index=False)\n"
   ]
  },
  {
   "cell_type": "markdown",
   "metadata": {},
   "source": [
    "# Format Uniprot\n",
    "Format protein/gene to gene ontology (GO) relationships from Uniprot (https://www.uniprot.org/uniprot/?query=*&fil=organism%3A%22Homo+sapiens+%28Human%29+%5B9606%5D%22+AND+reviewed%3Ayes). Standardize proteins to their gene CUIs and gene ontology to CUI."
   ]
  },
  {
   "cell_type": "code",
   "execution_count": 15,
   "metadata": {},
   "outputs": [],
   "source": [
    "input_filepath = os.path.join(DATA_DIR, 'uniprot-filtered-organism__Homo+sapiens+(Human)+[9606]_+AND+review--.tab')\n",
    "output_filepath = os.path.join(OUTPUT_DATA_DIR, 'gene_GO_relationships.csv')"
   ]
  },
  {
   "cell_type": "code",
   "execution_count": 16,
   "metadata": {},
   "outputs": [],
   "source": [
    "def split_by(x, sep):\n",
    "    return [i.strip() for i in str(x).split(sep) if (i and i != \"nan\")]"
   ]
  },
  {
   "cell_type": "code",
   "execution_count": 17,
   "metadata": {},
   "outputs": [],
   "source": [
    "# read in uniprot data and format\n",
    "df = pd.read_csv(input_filepath, sep=\"\\t\", dtype=str)\n",
    "df['GO_ID'] = df['Gene ontology IDs'].apply(lambda x: split_by(x, \";\"))\n",
    "df['Gene name'] = df['Gene names'].apply(lambda x: split_by(x, \" \"))"
   ]
  },
  {
   "cell_type": "code",
   "execution_count": 18,
   "metadata": {},
   "outputs": [],
   "source": [
    "df = df.explode('Gene name')\n",
    "df = df.explode('GO_ID')"
   ]
  },
  {
   "cell_type": "code",
   "execution_count": 19,
   "metadata": {},
   "outputs": [],
   "source": [
    "# GO to CUI\n",
    "df = df.merge(go_to_cui_df, how='left', left_on='GO_ID', right_on='GO').rename(columns={'CUI': \"CUI_GO\"})\n",
    "# map to protein to gene CUI\n",
    "df = df.merge(gene_mapping_df[['Alias symbol', 'CUI']], left_on='Gene name', right_on='Alias symbol', how='left').rename(columns={'CUI': \"CUI_gene\"})\n",
    "df = df[['CUI_GO', 'CUI_gene']].drop_duplicates().dropna()\n",
    "df.to_csv(output_filepath, index=False)"
   ]
  },
  {
   "cell_type": "markdown",
   "metadata": {},
   "source": [
    "# format HPO\n",
    "Format gene-phenotype and disease-phenotype relationships from the Human Phenotype Ontology (HPO) (https://hpo.jax.org/app/download/annotation). Standardize phenotypes, genes, and diseases to CUI."
   ]
  },
  {
   "cell_type": "code",
   "execution_count": 20,
   "metadata": {},
   "outputs": [],
   "source": [
    "# format gene-phenotype relationships\n",
    "input_filepath = os.path.join(DATA_DIR, 'genes_to_phenotype.txt')\n",
    "output_filepath = os.path.join(OUTPUT_DATA_DIR, 'gene_phenotype_relationships.csv')"
   ]
  },
  {
   "cell_type": "code",
   "execution_count": 21,
   "metadata": {},
   "outputs": [],
   "source": [
    "df = pd.read_csv(input_filepath, sep=\"\\t\", skiprows=1, header=None, dtype=str)\n",
    "df.columns = [\"entrez-gene-id\", \"entrez-gene-symbol\", \"HPO-Term-ID\", \"HPO-Term-Name\", \"Frequency-Raw\", \"Frequency-HPO\", \"Additional Info from G-D source\", \"G-D source\", \"disease-ID for link\"]\n"
   ]
  },
  {
   "cell_type": "code",
   "execution_count": 22,
   "metadata": {},
   "outputs": [],
   "source": [
    "# HPO to CUI\n",
    "df = df.merge(hpo_to_cui_df, how='left', left_on='HPO-Term-ID', right_on='HPO').rename(columns={'CUI': 'CUI_HPO'})"
   ]
  },
  {
   "cell_type": "code",
   "execution_count": 23,
   "metadata": {},
   "outputs": [],
   "source": [
    "# convert gene to CUI\n",
    "df = df.merge(gene_mapping_df[['Alias symbol', 'CUI']], left_on='entrez-gene-symbol', right_on='Alias symbol', how='left').rename(columns={'CUI': 'CUI_gene'})\n",
    "df = df[['CUI_HPO', 'CUI_gene']].drop_duplicates().dropna()\n",
    "df.to_csv(output_filepath, index=False)"
   ]
  },
  {
   "cell_type": "code",
   "execution_count": null,
   "metadata": {},
   "outputs": [],
   "source": []
  },
  {
   "cell_type": "code",
   "execution_count": 24,
   "metadata": {},
   "outputs": [],
   "source": [
    "# format disease-phenotype relationships\n",
    "input_filepath = os.path.join(DATA_DIR, 'phenotype_annotation.tab')\n",
    "output_filepath = os.path.join(OUTPUT_DATA_DIR, 'disease_phenotype_relationships.csv')"
   ]
  },
  {
   "cell_type": "code",
   "execution_count": 25,
   "metadata": {},
   "outputs": [],
   "source": [
    "df = pd.read_csv(input_filepath, sep=\"\\t\", dtype=str)\n",
    "df = df[(df[\"#disease-db\"]==\"OMIM\")] # just use OMIM diseases"
   ]
  },
  {
   "cell_type": "code",
   "execution_count": 26,
   "metadata": {},
   "outputs": [],
   "source": [
    "disease_mapping_filepath = os.path.join(DATA_DIR, 'doid_formatted.tsv')\n",
    "disease_mapping_df = pd.read_csv(disease_mapping_filepath)\n",
    "\n",
    "# add CUI column to disease_mapping_df\n",
    "def get_cui(xref):\n",
    "    if str(xref) != 'nan':\n",
    "        ids = xref.split(\",\")\n",
    "        for id_ in ids:\n",
    "            if id_.split(\":\")[0].strip() == 'UMLS_CUI':\n",
    "                return id_.split(\":\")[1].strip()\n",
    "    return np.nan\n",
    "\n",
    "disease_mapping_df['CUI'] = disease_mapping_df['xref'].apply(lambda x: get_cui(x))"
   ]
  },
  {
   "cell_type": "code",
   "execution_count": 27,
   "metadata": {},
   "outputs": [],
   "source": [
    "# OMIM to CUI\n",
    "df = df.merge(disease_mapping_df, left_on='disease-identifier', right_on='OMIM').rename(columns={'CUI': 'CUI_disease'})"
   ]
  },
  {
   "cell_type": "code",
   "execution_count": 28,
   "metadata": {},
   "outputs": [],
   "source": [
    "# HPO to CUI\n",
    "df = df.merge(hpo_to_cui_df, how='left', left_on='HPO-ID', right_on='HPO').rename(columns={'CUI': 'CUI_HPO'})\n",
    "df = df[['CUI_HPO', 'CUI_disease']].drop_duplicates().dropna()\n",
    "df.to_csv(output_filepath, index=False)\n"
   ]
  },
  {
   "cell_type": "code",
   "execution_count": null,
   "metadata": {},
   "outputs": [],
   "source": []
  }
 ],
 "metadata": {
  "kernelspec": {
   "display_name": "Python 3",
   "language": "python",
   "name": "python3"
  },
  "language_info": {
   "codemirror_mode": {
    "name": "ipython",
    "version": 3
   },
   "file_extension": ".py",
   "mimetype": "text/x-python",
   "name": "python",
   "nbconvert_exporter": "python",
   "pygments_lexer": "ipython3",
   "version": "3.7.4"
  }
 },
 "nbformat": 4,
 "nbformat_minor": 2
}
